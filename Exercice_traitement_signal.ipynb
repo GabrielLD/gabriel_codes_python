{
 "cells": [
  {
   "cell_type": "code",
   "execution_count": 1,
   "metadata": {},
   "outputs": [
    {
     "name": "stderr",
     "output_type": "stream",
     "text": [
      "c:\\Users\\pastislab\\Documents\\Gabriel\\Codes_python\\Traitement_du_signal_Fourier\\gabriel_lib.py:89: MatplotlibDeprecationWarning: Support for setting the 'text.latex.preamble' or 'pgf.preamble' rcParam to a list of strings is deprecated since 3.3 and will be removed two minor releases later; set it to a single string instead.\n",
      "  mpl.rcParams['text.latex.preamble'] = [\n"
     ]
    }
   ],
   "source": [
    "%run gabriel_lib.py"
   ]
  },
  {
   "cell_type": "markdown",
   "metadata": {},
   "source": [
    "# Introduction à l'analyse spectrale"
   ]
  },
  {
   "cell_type": "markdown",
   "metadata": {},
   "source": [
    "Ce document est une introduction à l'analyse spectrale des signaux périodiques. Après avoir expliqué la décomposition d'un signal périodique en somme de fonctions sinusoïdales, on verra comment effectuer l'analyse spectrale d'un signal échantillonné."
   ]
  },
  {
   "cell_type": "markdown",
   "metadata": {},
   "source": [
    "## 2. Série de Fourier et spectre d'un signal périodique\n",
    "\n",
    "On considère un signal périodique, représenté par une fonction d'une variable t réelle à valeurs réelles, de période T et de classe C1 par morceaux.\n",
    "\n",
    "La fréquence fondamentale du signal est : $$f_1 = \\dfrac{1}{T}$$\n",
    "\n",
    "D'après le théorème de Fourier, cette fonction peut s'écrire comme une somme de sinusoïdes dont les fréquences sont multiples de la fréquence fondamentale. La somme obtenue est la série de Fourier :\n",
    "\n",
    "$$u(T) = \\dfrac{A_0}{2}+\\sum_{n}^p A_n\\cos\\left(n\\dfrac{2\\pi}{T}+\\phi\\right)$$\n",
    "\n",
    "Dans certains cas, la somme peut être stoppée à un rang P fini. Dans d'autres cas, il faut en principe considérer la limite $P\\rightarrow \\infty$.\n",
    "\n",
    "Le terme de rang n est appelé l'harmonique de rang n du signal : c'est une sinusoïde de fréquence\n",
    "\n",
    "$$f_n = nf_1=\\dfrac{n}{T}$$\n",
    "\n",
    "L'harmonique de rang $n$ est d2fini par son amplitude $A_n$ (positive) et son déphasage $\\phi_n$.\n",
    "Le terme constant $A_0/2$ peutêtre vu comme le terme de fréquence nulle, c'est la valeur moyenne du signal:\n",
    "\n",
    "$$\\dfrac{A_0}{2}=\\dfrac{1}{T}\\int_0^Tu(t)dt$$"
   ]
  },
  {
   "cell_type": "markdown",
   "metadata": {},
   "source": [
    "Considérons un signal de rang $p=3$ (une comme de 3 cosinus). On dit que le signal comporte trois harmoniques."
   ]
  },
  {
   "cell_type": "code",
   "execution_count": 12,
   "metadata": {},
   "outputs": [
    {
     "data": {
      "text/plain": [
       "(0.0, 2.0, -2.0, 2.0)"
      ]
     },
     "execution_count": 12,
     "metadata": {},
     "output_type": "execute_result"
    },
    {
     "data": {
      "image/png": "[encoded data removed]",
      "text/plain": [
       "<Figure size 398.506x179.328 with 1 Axes>"
      ]
     },
     "metadata": {
      "needs_background": "light"
     },
     "output_type": "display_data"
    }
   ],
   "source": [
    "import numpy\n",
    "import math\n",
    "import matplotlib.pyplot as plt\n",
    "f1=1.0\n",
    "def u(t):\n",
    "    return 0.4+1.0*numpy.cos(2*numpy.pi*f1*t)\\\n",
    "            +0.5*numpy.cos(2*2*numpy.pi*f1*t-numpy.pi/3)\\\n",
    "            +0.2*numpy.cos(3*2*numpy.pi*f1*t+numpy.pi/4)\n",
    "\n",
    "N = 500\n",
    "Tmax = 2.0\n",
    "Te = Tmax/N\n",
    "t = numpy.arange(N)*Te\n",
    "x = u(t)\n",
    "\n",
    "plt.figure(figsize=set_size(width = 400, subplots = (1,2)))\n",
    "plt.plot(t,x)\n",
    "plt.xlabel('t')\n",
    "plt.ylabel('u')\n",
    "plt.axis([0,2,-2,2])\n"
   ]
  },
  {
   "cell_type": "markdown",
   "metadata": {},
   "source": [
    "Le spectre du signal est la représentation graphique de l'amplitude An en fonction de la fréquence. Un signal périodique a en théorie un spectre discret formé de raies, chacune correspondant à un harmonique. Pour cet exemple, il y a 4 raies : une pour la valeur moyenne (fréquence nulle) et 3 raies pour les harmoniques de rang 1, 2 et 3 :"
   ]
  },
  {
   "cell_type": "code",
   "execution_count": 13,
   "metadata": {},
   "outputs": [
    {
     "data": {
      "image/png": "[encoded data removed]",
      "text/plain": [
       "<Figure size 398.506x179.328 with 1 Axes>"
      ]
     },
     "metadata": {
      "needs_background": "light"
     },
     "output_type": "display_data"
    }
   ],
   "source": [
    "plt.figure(figsize=set_size(width = 400, subplots = (1,2)))\n",
    "plt.stem([0,1,2,3],[0.8,1.0,0.5,0.2],'r')\n",
    "plt.xlabel('f')\n",
    "plt.ylabel('A')\n",
    "plt.axis([-1,5,0,2])\n",
    "plt.grid()"
   ]
  },
  {
   "cell_type": "markdown",
   "metadata": {},
   "source": [
    "La raie de fréquence nulle a une amplitude égale au double de la valeur moyenne du signal (la composante continue). \n",
    "\n",
    "la première courbe ($u$ en fonction de $t$) est la représentation emporelle du signal. le spectre est la représentation fréquentielle du signal. En principe, il faudrait aussi tracer la phase $\\phi_n$ pour avoir une représentation complète. Pour les calculs, il est commode d'introduire la série de Fourier sous forme complexe: \n",
    "\n",
    "$$u(t) = \\sum_{n=p}^p c_n {\\rm e}^{in\\dfrac{2\\pi}{T}t}$$\n",
    "\n",
    "Le coefficient $c_n$ est un nombre complexe appelé coefficient de Fourier. Il se calcule à partir de la fonction $u$ avec l'intégrale suivante: \n",
    "\n",
    "$$c_n = \\dfrac{1}{T}\\int_0^T u(t){\\rm e}^{-in\\dfrac{2\\pi}{T}t}$$\n",
    "\n",
    "Puisque $u(t)$ est réel, le coefficient de Fourier vérifie la propriété suivante : \n",
    "\n",
    "$$c_n = c^*_{-n}$$ \n",
    "\n",
    "L'étoile désigne le complexe conjugué. La somme s'écrit donc: \n",
    "\n",
    "$$u(t) = c_0+\\sum_{n=1}^p c_n{\\rm e}^{in\\dfrac{2\\pi}{T}t} + c_{-n}{\\rm e}^{-in\\dfrac{2\\pi}{T}t}$$\n",
    "\n",
    "\n",
    "$$u(t) = c_0 + \\sum_{n=1}^p 2Re\\left[c_n{\\rm e}^{in\\dfrac{2\\pi}{T}t}\\right]$$\n",
    "\n",
    "On en déduit que $c_0=\\dfrac{A_0}{2}$ et $c_n = \\dfrac{A_n}{2}{\\rm e}^{i\\phi_n}$"
   ]
  },
  {
   "cell_type": "markdown",
   "metadata": {},
   "source": [
    "# Transformée de Fourier discrète du signal\n",
    "\n",
    "C'est la transformation qui permet de calculer le spectre d'un signal dscret, obtenu par échantillonage d'un signal continu. Considérons un échantillonage de la fonction $u$ sur l'intervalle $[0,T]$, comportant $N$ points et défini par : \n",
    "\n",
    "$$t_k = k \\dfrac{T}{N}~~(0<k<N-1)$$\n",
    "$$u_k = u(t_k)$$\n",
    "\n",
    "On définit la période d'échantillonage et la fréquence d'échantillonage par: \n",
    "\n",
    "$$Te = \\dfrac{T}{N}$$\n",
    "$$fe = \\dfrac{1}{Te}$$\n",
    "\n",
    "Une valeur approchée de l'intégrae définissant les coefficients de Fourier peut être obtenue par la méthode des rectangles: \n",
    "\n",
    "$$c_n = \\dfrac{1}{T}\\sum_{k=0}^{N-1} \\dfrac{T}{N} u_k {\\rm e}^{-i\\dfrac{2\\pi nk}{N}}$$\n",
    "\n",
    "par définition, la transformée de Fourier discrète est l'application qui aux $N$ nombres $u_k$ associe les $N$ nombres complexes suivants $(0<n<N-1)$\n",
    "\n",
    "$$\\tilde{U}_n = \\dfrac{1}{N}\\sum_{k=0}^{N-1} u_k {\\rm e}^{-i\\dfrac{2\\pi nk}{N}}$$\n",
    "\n",
    "la transformée de Fourier discrète est calculée numériquement avec l'algorithme dit de Transformée de Fourier rapide, désignée souvent par fft.\n",
    "\n"
   ]
  },
  {
   "cell_type": "code",
   "execution_count": 40,
   "metadata": {},
   "outputs": [
    {
     "data": {
      "text/plain": [
       "Text(0, 0.5, 'u')"
      ]
     },
     "execution_count": 40,
     "metadata": {},
     "output_type": "execute_result"
    },
    {
     "data": {
      "image/png": "[encoded data removed]",
      "text/plain": [
       "<Figure size 398.506x179.328 with 1 Axes>"
      ]
     },
     "metadata": {
      "needs_background": "light"
     },
     "output_type": "display_data"
    }
   ],
   "source": [
    "N = 10\n",
    "Tmax = 1.0\n",
    "Te = Tmax/N\n",
    "t = numpy.arange(0,N)*Te\n",
    "x=u(t)\n",
    "plt.figure(figsize=set_size(width = 400, subplots = (1,2)))\n",
    "plt.plot(t,x, '+')\n",
    "plt.xlabel('t')\n",
    "plt.ylabel('u')\n",
    "   "
   ]
  },
  {
   "cell_type": "code",
   "execution_count": 41,
   "metadata": {},
   "outputs": [
    {
     "data": {
      "text/plain": [
       "Text(0, 0.5, '|cn|')"
      ]
     },
     "execution_count": 41,
     "metadata": {},
     "output_type": "execute_result"
    },
    {
     "data": {
      "image/png": "[encoded data removed]",
      "text/plain": [
       "<Figure size 398.506x179.328 with 1 Axes>"
      ]
     },
     "metadata": {
      "needs_background": "light"
     },
     "output_type": "display_data"
    }
   ],
   "source": [
    "import numpy.fft\n",
    "\n",
    "tfd = numpy.fft.fft(x)\n",
    "\n",
    "plt.figure(figsize=set_size(width = 400, subplots = (1,2)))\n",
    "f=numpy.arange(0,N,1)\n",
    "\n",
    "\n",
    "plt.stem(f,numpy.absolute(tfd)/N) \n",
    "plt.xlabel(\"f\")\n",
    "plt.ylabel(\"|cn|\")\n",
    "# plt.axis([-1,11,0,1])\n"
   ]
  },
  {
   "cell_type": "markdown",
   "metadata": {},
   "source": [
    "Les 4 premières valeurs de la TFD donnent bien les coefficients de Fourier de rang 0 à 3. Les éléments d'indice 4,5 et 6 sont nulles, aux erreurs d'arrondis près (erreurs de l'ordre de 1e-16). Les trois derniers éléments (indices 7 à 9) sont les conjugués des trois coefficients c1, c2 et c3; ils ont donc le même module. Le terme d'indice 1 est conjugué du terme d'indice 9, celui d'indice 2 conjugué du terme d'indice 8, etc. La fréquence centrale du spectre est égale à la moitié de la fréquence d'échantillonnage; c'est la fréquence de Nyquist. Ici, la fréquence de Nyquist est fn=5. Comme la condition de Nyquist-Shannon est respectée, cette fréquence est supérieure à P=3. La partie du spectre située à gauche de cette fréquence est le spectre du signal continu u(t). La totalité du spectre est celui du signal discret. La partie située à droite de la fréquence de Nyquist est l'image de la partie gauche (à l'exclusion de la composante de fréquence nulle). On voit que la condition de Nyquist-Shannon se traduit par le non chevauchement du spectre et de son image.\n",
    "\n",
    "En fait, le spectre du signal discret est périodique, de période égale à la fréquence d'échantillonnage. La relation définissant la TFD vérifie en effet la relation :\n",
    "\n",
    "$$\\tilde{U}_{N+n}=\\tilde{U}_n$$\n",
    "\n",
    "La TFD que nous avons calculée donne donc les valeurs de ce spectre sur une période. Cependant, ce qui nous intéresse en pratique est plutôt le spectre du signal continu u(t), qui est donné par la première moitié de la TFD.\n",
    "\n",
    "En pratique, on s'intéresse aux amplitudes An des harmoniques plutôt qu'aux valeurs des coefficients de Fourier cn. Il faut alors multiplier les coefficient par deux :"
   ]
  },
  {
   "cell_type": "code",
   "execution_count": 42,
   "metadata": {},
   "outputs": [
    {
     "data": {
      "text/plain": [
       "(-1.0, 11.0, 0.0, 1.2)"
      ]
     },
     "execution_count": 42,
     "metadata": {},
     "output_type": "execute_result"
    },
    {
     "data": {
      "image/png": "[encoded data removed]",
      "text/plain": [
       "<Figure size 398.506x179.328 with 1 Axes>"
      ]
     },
     "metadata": {
      "needs_background": "light"
     },
     "output_type": "display_data"
    }
   ],
   "source": [
    "plt.figure(figsize=set_size(width = 400, subplots = (1,2)))\n",
    "f=numpy.arange(0,N,1)\n",
    "plt.stem(f,numpy.absolute(tfd)*2/N) \n",
    "plt.xlabel(\"f\")\n",
    "plt.ylabel(\"|cn|\")\n",
    "plt.axis([-1,11,0,1.2])\n"
   ]
  },
  {
   "cell_type": "markdown",
   "metadata": {},
   "source": [
    "$\\underline{\\rm À~noter: }$ \n",
    "\n",
    "On remarque que la composante de fréquence nulle du spectre a une amplitude égale au double de la valeur moyenne. Dans le cas présent, on pourrait facilement diviser le terme d'indice 0 par deux pour obtenir directement la composante de fréquence nulle du signal, mais cette méthode n'est pas toujours applicable sur les spectres expérimentaux. "
   ]
  },
  {
   "cell_type": "markdown",
   "metadata": {},
   "source": [
    "# Transformée de Fourier inverse"
   ]
  },
  {
   "cell_type": "markdown",
   "metadata": {},
   "source": [
    "L'information présente dans le signal échantillonné est entièrement contenue dans sa TFD. On peut en effet calculer le signal à partir de sa TFD par la relation suivante :\n",
    "\n",
    "$$ U_k = \\dfrac{1}{N}\\sum_{n=0}^{N-1} \\tilde{U}_n {\\rm e}^{i\\dfrac{2\\pi nk}{N}}$$\n"
   ]
  },
  {
   "cell_type": "markdown",
   "metadata": {},
   "source": [
    "La transformation qui permet ainsi de retrouver le signal discret est la transformation de Fourier discrète inverse. Elle ressemble beaucoup à la TFD directe : on remarque le changement de signe dans l'exponentielle et l'absence du facteur 1/N. En ce qui concerne ce facteur, il existe d'ailleurs différentes conventions pour la définition de la TFD.\n",
    "\n",
    "Comme exemple, calculons la TFD inverse de la TFD obtenue précédemment :"
   ]
  },
  {
   "cell_type": "code",
   "execution_count": 46,
   "metadata": {},
   "outputs": [
    {
     "name": "stderr",
     "output_type": "stream",
     "text": [
      "C:\\Users\\pastislab\\anaconda3\\lib\\site-packages\\numpy\\core\\_asarray.py:102: ComplexWarning: Casting complex values to real discards the imaginary part\n",
      "  return array(a, dtype, copy=False, order=order)\n"
     ]
    },
    {
     "data": {
      "text/plain": [
       "Text(0, 0.5, 'y')"
      ]
     },
     "execution_count": 46,
     "metadata": {},
     "output_type": "execute_result"
    },
    {
     "data": {
      "image/png": "[encoded data removed]",
      "text/plain": [
       "<Figure size 398.506x179.328 with 1 Axes>"
      ]
     },
     "metadata": {
      "needs_background": "light"
     },
     "output_type": "display_data"
    }
   ],
   "source": [
    "y = numpy.fft.ifft(tfd)\n",
    "\n",
    "plt.figure(figsize=set_size(width = 400, subplots = (1,2)))\n",
    "plt.plot(t,y, '+')\n",
    "plt.xlabel('t')\n",
    "plt.ylabel('y')\n"
   ]
  },
  {
   "cell_type": "markdown",
   "metadata": {},
   "source": [
    "On retrouve le signal de départ !"
   ]
  },
  {
   "cell_type": "markdown",
   "metadata": {},
   "source": [
    "# Analyse spectrale"
   ]
  },
  {
   "cell_type": "markdown",
   "metadata": {},
   "source": [
    "Un signal périodique "
   ]
  }
 ],
 "metadata": {
  "interpreter": {
   "hash": "fb2ce93010dcca704d5660068004a67814c14aa9f3aa7a7b4e0847872b9d0744"
  },
  "kernelspec": {
   "display_name": "Python 3.9.7 64-bit",
   "language": "python",
   "name": "python3"
  },
  "language_info": {
   "codemirror_mode": {
    "name": "ipython",
    "version": 3
   },
   "file_extension": ".py",
   "mimetype": "text/x-python",
   "name": "python",
   "nbconvert_exporter": "python",
   "pygments_lexer": "ipython3",
   "version": "3.9.7"
  },
  "orig_nbformat": 4
 },
 "nbformat": 4,
 "nbformat_minor": 2
}
